{
 "cells": [
  {
   "cell_type": "markdown",
   "id": "9f20b97c",
   "metadata": {},
   "source": [
    "## XYZ's credit Analysis"
   ]
  },
  {
   "cell_type": "markdown",
   "id": "342bfd53",
   "metadata": {},
   "source": [
    "Bank lends loans to its customers. The bank manager and all those engaged in lending to clients must have a clear background check on their customers so as to avoid loan defaults. This is an analytic based on credits lent by bank XYZ.  "
   ]
  },
  {
   "cell_type": "code",
   "execution_count": 1,
   "id": "be741e19",
   "metadata": {},
   "outputs": [],
   "source": [
    "# import necessary libraries\n",
    "import pandas as pd\n",
    "import numpy as np\n",
    "import matplotlib.pyplot as plt\n",
    "import seaborn as sns"
   ]
  },
  {
   "cell_type": "code",
   "execution_count": 8,
   "id": "7d683f8c",
   "metadata": {},
   "outputs": [],
   "source": [
    "# Reading table\n",
    "df=pd.read_csv('credit.csv')"
   ]
  },
  {
   "cell_type": "code",
   "execution_count": 11,
   "id": "9597ca7a",
   "metadata": {
    "scrolled": true
   },
   "outputs": [],
   "source": [
    "# Select the columns from the table\n",
    "selected_columns = [\n",
    "    'Current Loan Amount',\n",
    "    'Credit Score',\n",
    "    'Annual Income',\n",
    "    'Monthly Debt',\n",
    "    'Months since last delinquent',\n",
    "    'Number of Credit Problems',\n",
    "    'Current Credit Balance',\n",
    "    'Maximum Open Credit',\n",
    "    'Bankruptcies',\n",
    "    'Tax Liens'\n",
    "]\n",
    "\n",
    "# Create a new DataFrame containing only the selected columns\n",
    "credit = df[selected_columns]"
   ]
  },
  {
   "cell_type": "markdown",
   "id": "07146907",
   "metadata": {},
   "source": [
    "### EDA"
   ]
  },
  {
   "cell_type": "code",
   "execution_count": 13,
   "id": "cd4dcc73",
   "metadata": {},
   "outputs": [
    {
     "data": {
      "text/html": [
       "<div>\n",
       "<style scoped>\n",
       "    .dataframe tbody tr th:only-of-type {\n",
       "        vertical-align: middle;\n",
       "    }\n",
       "\n",
       "    .dataframe tbody tr th {\n",
       "        vertical-align: top;\n",
       "    }\n",
       "\n",
       "    .dataframe thead th {\n",
       "        text-align: right;\n",
       "    }\n",
       "</style>\n",
       "<table border=\"1\" class=\"dataframe\">\n",
       "  <thead>\n",
       "    <tr style=\"text-align: right;\">\n",
       "      <th></th>\n",
       "      <th>Current Loan Amount</th>\n",
       "      <th>Credit Score</th>\n",
       "      <th>Annual Income</th>\n",
       "      <th>Monthly Debt</th>\n",
       "      <th>Months since last delinquent</th>\n",
       "      <th>Number of Credit Problems</th>\n",
       "      <th>Current Credit Balance</th>\n",
       "      <th>Maximum Open Credit</th>\n",
       "      <th>Bankruptcies</th>\n",
       "      <th>Tax Liens</th>\n",
       "    </tr>\n",
       "  </thead>\n",
       "  <tbody>\n",
       "    <tr>\n",
       "      <th>0</th>\n",
       "      <td>611314</td>\n",
       "      <td>747.0</td>\n",
       "      <td>2074116.0</td>\n",
       "      <td>42000.83</td>\n",
       "      <td>NaN</td>\n",
       "      <td>0</td>\n",
       "      <td>621908</td>\n",
       "      <td>1058970</td>\n",
       "      <td>0.0</td>\n",
       "      <td>0.0</td>\n",
       "    </tr>\n",
       "    <tr>\n",
       "      <th>1</th>\n",
       "      <td>266662</td>\n",
       "      <td>734.0</td>\n",
       "      <td>1919190.0</td>\n",
       "      <td>36624.40</td>\n",
       "      <td>NaN</td>\n",
       "      <td>0</td>\n",
       "      <td>679573</td>\n",
       "      <td>904442</td>\n",
       "      <td>0.0</td>\n",
       "      <td>0.0</td>\n",
       "    </tr>\n",
       "    <tr>\n",
       "      <th>2</th>\n",
       "      <td>153494</td>\n",
       "      <td>709.0</td>\n",
       "      <td>871112.0</td>\n",
       "      <td>8391.73</td>\n",
       "      <td>10.0</td>\n",
       "      <td>0</td>\n",
       "      <td>38532</td>\n",
       "      <td>388036</td>\n",
       "      <td>0.0</td>\n",
       "      <td>0.0</td>\n",
       "    </tr>\n",
       "  </tbody>\n",
       "</table>\n",
       "</div>"
      ],
      "text/plain": [
       "   Current Loan Amount  Credit Score  Annual Income  Monthly Debt  \\\n",
       "0               611314         747.0      2074116.0      42000.83   \n",
       "1               266662         734.0      1919190.0      36624.40   \n",
       "2               153494         709.0       871112.0       8391.73   \n",
       "\n",
       "   Months since last delinquent  Number of Credit Problems  \\\n",
       "0                           NaN                          0   \n",
       "1                           NaN                          0   \n",
       "2                          10.0                          0   \n",
       "\n",
       "   Current Credit Balance  Maximum Open Credit  Bankruptcies  Tax Liens  \n",
       "0                  621908              1058970           0.0        0.0  \n",
       "1                  679573               904442           0.0        0.0  \n",
       "2                   38532               388036           0.0        0.0  "
      ]
     },
     "execution_count": 13,
     "metadata": {},
     "output_type": "execute_result"
    }
   ],
   "source": [
    "credit.head(3)"
   ]
  },
  {
   "cell_type": "code",
   "execution_count": 20,
   "id": "d9f1446f",
   "metadata": {},
   "outputs": [
    {
     "data": {
      "text/html": [
       "<div>\n",
       "<style scoped>\n",
       "    .dataframe tbody tr th:only-of-type {\n",
       "        vertical-align: middle;\n",
       "    }\n",
       "\n",
       "    .dataframe tbody tr th {\n",
       "        vertical-align: top;\n",
       "    }\n",
       "\n",
       "    .dataframe thead th {\n",
       "        text-align: right;\n",
       "    }\n",
       "</style>\n",
       "<table border=\"1\" class=\"dataframe\">\n",
       "  <thead>\n",
       "    <tr style=\"text-align: right;\">\n",
       "      <th></th>\n",
       "      <th>Current Loan Amount</th>\n",
       "      <th>Credit Score</th>\n",
       "      <th>Annual Income</th>\n",
       "      <th>Monthly Debt</th>\n",
       "      <th>Months since last delinquent</th>\n",
       "      <th>Number of Credit Problems</th>\n",
       "      <th>Current Credit Balance</th>\n",
       "      <th>Maximum Open Credit</th>\n",
       "      <th>Bankruptcies</th>\n",
       "      <th>Tax Liens</th>\n",
       "    </tr>\n",
       "  </thead>\n",
       "  <tbody>\n",
       "    <tr>\n",
       "      <th>2</th>\n",
       "      <td>153494</td>\n",
       "      <td>709.0</td>\n",
       "      <td>871112.0</td>\n",
       "      <td>8391.73</td>\n",
       "      <td>10.0</td>\n",
       "      <td>0</td>\n",
       "      <td>38532</td>\n",
       "      <td>388036</td>\n",
       "      <td>0.0</td>\n",
       "      <td>0.0</td>\n",
       "    </tr>\n",
       "    <tr>\n",
       "      <th>3</th>\n",
       "      <td>176242</td>\n",
       "      <td>727.0</td>\n",
       "      <td>780083.0</td>\n",
       "      <td>16771.87</td>\n",
       "      <td>27.0</td>\n",
       "      <td>1</td>\n",
       "      <td>156940</td>\n",
       "      <td>531322</td>\n",
       "      <td>1.0</td>\n",
       "      <td>0.0</td>\n",
       "    </tr>\n",
       "    <tr>\n",
       "      <th>4</th>\n",
       "      <td>321992</td>\n",
       "      <td>744.0</td>\n",
       "      <td>1761148.0</td>\n",
       "      <td>39478.77</td>\n",
       "      <td>44.0</td>\n",
       "      <td>0</td>\n",
       "      <td>359765</td>\n",
       "      <td>468072</td>\n",
       "      <td>0.0</td>\n",
       "      <td>0.0</td>\n",
       "    </tr>\n",
       "    <tr>\n",
       "      <th>9</th>\n",
       "      <td>266288</td>\n",
       "      <td>683.0</td>\n",
       "      <td>2031518.0</td>\n",
       "      <td>12443.10</td>\n",
       "      <td>56.0</td>\n",
       "      <td>2</td>\n",
       "      <td>31445</td>\n",
       "      <td>251130</td>\n",
       "      <td>2.0</td>\n",
       "      <td>0.0</td>\n",
       "    </tr>\n",
       "    <tr>\n",
       "      <th>11</th>\n",
       "      <td>258104</td>\n",
       "      <td>723.0</td>\n",
       "      <td>1284514.0</td>\n",
       "      <td>6368.99</td>\n",
       "      <td>64.0</td>\n",
       "      <td>0</td>\n",
       "      <td>128402</td>\n",
       "      <td>266904</td>\n",
       "      <td>0.0</td>\n",
       "      <td>0.0</td>\n",
       "    </tr>\n",
       "    <tr>\n",
       "      <th>...</th>\n",
       "      <td>...</td>\n",
       "      <td>...</td>\n",
       "      <td>...</td>\n",
       "      <td>...</td>\n",
       "      <td>...</td>\n",
       "      <td>...</td>\n",
       "      <td>...</td>\n",
       "      <td>...</td>\n",
       "      <td>...</td>\n",
       "      <td>...</td>\n",
       "    </tr>\n",
       "    <tr>\n",
       "      <th>9989</th>\n",
       "      <td>110946</td>\n",
       "      <td>736.0</td>\n",
       "      <td>632396.0</td>\n",
       "      <td>13122.16</td>\n",
       "      <td>48.0</td>\n",
       "      <td>0</td>\n",
       "      <td>214966</td>\n",
       "      <td>324126</td>\n",
       "      <td>0.0</td>\n",
       "      <td>0.0</td>\n",
       "    </tr>\n",
       "    <tr>\n",
       "      <th>9990</th>\n",
       "      <td>260128</td>\n",
       "      <td>611.0</td>\n",
       "      <td>3182519.0</td>\n",
       "      <td>79563.07</td>\n",
       "      <td>40.0</td>\n",
       "      <td>0</td>\n",
       "      <td>1398932</td>\n",
       "      <td>3673032</td>\n",
       "      <td>0.0</td>\n",
       "      <td>0.0</td>\n",
       "    </tr>\n",
       "    <tr>\n",
       "      <th>9994</th>\n",
       "      <td>442596</td>\n",
       "      <td>739.0</td>\n",
       "      <td>1528968.0</td>\n",
       "      <td>19494.38</td>\n",
       "      <td>79.0</td>\n",
       "      <td>0</td>\n",
       "      <td>419235</td>\n",
       "      <td>656876</td>\n",
       "      <td>0.0</td>\n",
       "      <td>0.0</td>\n",
       "    </tr>\n",
       "    <tr>\n",
       "      <th>9996</th>\n",
       "      <td>132550</td>\n",
       "      <td>718.0</td>\n",
       "      <td>763192.0</td>\n",
       "      <td>12401.87</td>\n",
       "      <td>20.0</td>\n",
       "      <td>0</td>\n",
       "      <td>74309</td>\n",
       "      <td>329692</td>\n",
       "      <td>0.0</td>\n",
       "      <td>0.0</td>\n",
       "    </tr>\n",
       "    <tr>\n",
       "      <th>9998</th>\n",
       "      <td>99999999</td>\n",
       "      <td>721.0</td>\n",
       "      <td>972097.0</td>\n",
       "      <td>12232.20</td>\n",
       "      <td>24.0</td>\n",
       "      <td>1</td>\n",
       "      <td>184984</td>\n",
       "      <td>240658</td>\n",
       "      <td>0.0</td>\n",
       "      <td>0.0</td>\n",
       "    </tr>\n",
       "  </tbody>\n",
       "</table>\n",
       "<p>3738 rows × 10 columns</p>\n",
       "</div>"
      ],
      "text/plain": [
       "      Current Loan Amount  Credit Score  Annual Income  Monthly Debt  \\\n",
       "2                  153494         709.0       871112.0       8391.73   \n",
       "3                  176242         727.0       780083.0      16771.87   \n",
       "4                  321992         744.0      1761148.0      39478.77   \n",
       "9                  266288         683.0      2031518.0      12443.10   \n",
       "11                 258104         723.0      1284514.0       6368.99   \n",
       "...                   ...           ...            ...           ...   \n",
       "9989               110946         736.0       632396.0      13122.16   \n",
       "9990               260128         611.0      3182519.0      79563.07   \n",
       "9994               442596         739.0      1528968.0      19494.38   \n",
       "9996               132550         718.0       763192.0      12401.87   \n",
       "9998             99999999         721.0       972097.0      12232.20   \n",
       "\n",
       "      Months since last delinquent  Number of Credit Problems  \\\n",
       "2                             10.0                          0   \n",
       "3                             27.0                          1   \n",
       "4                             44.0                          0   \n",
       "9                             56.0                          2   \n",
       "11                            64.0                          0   \n",
       "...                            ...                        ...   \n",
       "9989                          48.0                          0   \n",
       "9990                          40.0                          0   \n",
       "9994                          79.0                          0   \n",
       "9996                          20.0                          0   \n",
       "9998                          24.0                          1   \n",
       "\n",
       "      Current Credit Balance  Maximum Open Credit  Bankruptcies  Tax Liens  \n",
       "2                      38532               388036           0.0        0.0  \n",
       "3                     156940               531322           1.0        0.0  \n",
       "4                     359765               468072           0.0        0.0  \n",
       "9                      31445               251130           2.0        0.0  \n",
       "11                    128402               266904           0.0        0.0  \n",
       "...                      ...                  ...           ...        ...  \n",
       "9989                  214966               324126           0.0        0.0  \n",
       "9990                 1398932              3673032           0.0        0.0  \n",
       "9994                  419235               656876           0.0        0.0  \n",
       "9996                   74309               329692           0.0        0.0  \n",
       "9998                  184984               240658           0.0        0.0  \n",
       "\n",
       "[3738 rows x 10 columns]"
      ]
     },
     "execution_count": 20,
     "metadata": {},
     "output_type": "execute_result"
    }
   ],
   "source": [
    "# removing null values from dataset\n",
    "credit.dropna()"
   ]
  },
  {
   "cell_type": "code",
   "execution_count": 14,
   "id": "8b397136",
   "metadata": {},
   "outputs": [
    {
     "data": {
      "text/plain": [
       "(10000, 10)"
      ]
     },
     "execution_count": 14,
     "metadata": {},
     "output_type": "execute_result"
    }
   ],
   "source": [
    "credit.shape\n"
   ]
  },
  {
   "cell_type": "markdown",
   "id": "cc5071a0",
   "metadata": {},
   "source": [
    "there are 10,000 rows and 10 columns"
   ]
  },
  {
   "cell_type": "code",
   "execution_count": 21,
   "id": "6506bf80",
   "metadata": {},
   "outputs": [
    {
     "data": {
      "text/plain": [
       "count    8019.000000\n",
       "mean     1077.991520\n",
       "std      1477.467761\n",
       "min       585.000000\n",
       "25%       706.000000\n",
       "50%       725.000000\n",
       "75%       741.000000\n",
       "max      7510.000000\n",
       "Name: Credit Score, dtype: float64"
      ]
     },
     "execution_count": 21,
     "metadata": {},
     "output_type": "execute_result"
    }
   ],
   "source": [
    "credit['Credit Score'].describe()"
   ]
  },
  {
   "cell_type": "markdown",
   "id": "f3e2be63",
   "metadata": {},
   "source": [
    "We can deduce that the mean credit score is 725, and the interquartile range (741-585)= 156.\n",
    "Credit scores typically range from around 300 to 850, although the specific range and scoring model can vary depending on the credit bureau or scoring system used. In most scoring models, higher scores indicate better creditworthiness."
   ]
  },
  {
   "cell_type": "markdown",
   "id": "0236f8b0",
   "metadata": {},
   "source": [
    "### Do annual income  correlate with the current loan amount?"
   ]
  },
  {
   "cell_type": "code",
   "execution_count": 23,
   "id": "aa0c33a7",
   "metadata": {},
   "outputs": [],
   "source": [
    "correlation = credit['Current Loan Amount'].corr(credit['Annual Income'])"
   ]
  },
  {
   "cell_type": "code",
   "execution_count": 24,
   "id": "51de27ee",
   "metadata": {},
   "outputs": [
    {
     "data": {
      "text/plain": [
       "0.009343424108932985"
      ]
     },
     "execution_count": 24,
     "metadata": {},
     "output_type": "execute_result"
    }
   ],
   "source": [
    "correlation"
   ]
  },
  {
   "cell_type": "markdown",
   "id": "2b2675c3",
   "metadata": {},
   "source": [
    "There is a negligible linear relationship between the two variables. This may be because some people tend to solve other financial issues rather than paying debts."
   ]
  },
  {
   "cell_type": "markdown",
   "id": "d2860144",
   "metadata": {},
   "source": [
    "### How many people have credit card problems?"
   ]
  },
  {
   "cell_type": "code",
   "execution_count": 26,
   "id": "7d72ea02",
   "metadata": {},
   "outputs": [
    {
     "data": {
      "text/plain": [
       "count    10000.000000\n",
       "mean         0.165500\n",
       "std          0.500934\n",
       "min          0.000000\n",
       "25%          0.000000\n",
       "50%          0.000000\n",
       "75%          0.000000\n",
       "max         10.000000\n",
       "Name: Number of Credit Problems, dtype: float64"
      ]
     },
     "execution_count": 26,
     "metadata": {},
     "output_type": "execute_result"
    }
   ],
   "source": [
    "credit['Number of Credit Problems'].describe()"
   ]
  },
  {
   "cell_type": "markdown",
   "id": "649d46df",
   "metadata": {},
   "source": [
    "Maximum number of credit problems is 10. while the least is none. The majority have no problems."
   ]
  },
  {
   "cell_type": "markdown",
   "id": "90ff9e61",
   "metadata": {},
   "source": [
    "With such analysis one can evaluate credit viability of a client in a bank."
   ]
  },
  {
   "cell_type": "markdown",
   "id": "d1100730",
   "metadata": {},
   "source": [
    "## END"
   ]
  }
 ],
 "metadata": {
  "kernelspec": {
   "display_name": "Python 3",
   "language": "python",
   "name": "python3"
  },
  "language_info": {
   "codemirror_mode": {
    "name": "ipython",
    "version": 3
   },
   "file_extension": ".py",
   "mimetype": "text/x-python",
   "name": "python",
   "nbconvert_exporter": "python",
   "pygments_lexer": "ipython3",
   "version": "3.8.8"
  }
 },
 "nbformat": 4,
 "nbformat_minor": 5
}
